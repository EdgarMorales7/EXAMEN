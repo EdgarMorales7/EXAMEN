{
  "nbformat": 4,
  "nbformat_minor": 0,
  "metadata": {
    "colab": {
      "name": "EXAMEN - Morales Sarmiento Edgar - 2SV1",
      "provenance": [],
      "collapsed_sections": []
    },
    "kernelspec": {
      "name": "python3",
      "display_name": "Python 3"
    }
  },
  "cells": [
    {
      "cell_type": "markdown",
      "metadata": {
        "id": "D8pZ8-jQ0sV3"
      },
      "source": [
        "PROBLEMA 1"
      ]
    },
    {
      "cell_type": "code",
      "metadata": {
        "id": "F3Zdjmg80u3E",
        "outputId": "d20f73b8-ed2b-4366-fd98-84d0b108bc99",
        "colab": {
          "base_uri": "https://localhost:8080/"
        }
      },
      "source": [
        "print(\"Este programa calcula lar raices de ax^2+bx+c+0 con ayuda de la formula general de segundo orden: \\n\")\n",
        "a=float(input(\"Introduzca el valor de la variable a: \"))\n",
        "b=float(input(\"Introduzca el valor de la variable b: \"))\n",
        "c=float(input(\"Introduzca el valor de la variable c: \"))\n",
        "d=(b**2)-(4*a*c)\n",
        "while d<0:\n",
        "  print(\"\\nERROR, el discriminante tiene que ser positivo\")\n",
        "  a=float(input(\"Introduzca el valor de la variable a: \"))\n",
        "  b=float(input(\"Introduzca el valor de la variable b: \"))\n",
        "  c=float(input(\"Introduzca el valor de la variable c: \"))\n",
        "  d=(b**2)-(4*a*c)\n",
        "if d>=0:\n",
        "  print(\"\\nEl valor del discriminante es: \", d)\n",
        "  if d>=0:\n",
        "    x1=((-b-(d**0.5))/(2*a))\n",
        "    x2=((-b+(d**0.5))/(2*a))\n",
        "    print(\"\\nPor lo tanto, el valor de las raices son: \", \"\\nx1= \", x1 ,\"\\nx2= \", x2)\n"
      ],
      "execution_count": 85,
      "outputs": [
        {
          "output_type": "stream",
          "text": [
            "Este programa calcula lar raices de ax^2+bx+c+0 con ayuda de la formula general de segundo orden: \n",
            "\n",
            "Introduzca el valor de la variable a: 5\n",
            "Introduzca el valor de la variable b: 3\n",
            "Introduzca el valor de la variable c: 7\n",
            "\n",
            "ERROR, el discriminante tiene que ser positivo\n",
            "Introduzca el valor de la variable a: 2\n",
            "Introduzca el valor de la variable b: 8\n",
            "Introduzca el valor de la variable c: 4\n",
            "\n",
            "El valor del discriminante es:  32.0\n",
            "\n",
            "Por lo tanto, el valor de las raices son:  \n",
            "x1=  -3.414213562373095 \n",
            "x2=  -0.5857864376269049\n"
          ],
          "name": "stdout"
        }
      ]
    },
    {
      "cell_type": "markdown",
      "metadata": {
        "id": "KCd7U8k19_CH"
      },
      "source": [
        "PROBLEMA 2"
      ]
    },
    {
      "cell_type": "code",
      "metadata": {
        "id": "62Hk0HhK-BM-",
        "outputId": "15bed201-6210-49c4-8a90-7010c3b00ad1",
        "colab": {
          "base_uri": "https://localhost:8080/"
        }
      },
      "source": [
        "print(\"El siguiente programa resolvera la funcion: f(x)=x^2+3x+3\\n\")\n",
        "def funcion(x):\n",
        "  funcion=(x**2)+3*x+3\n",
        "  print(\"\\nf(x)=\", funcion)\n",
        "x=float(input(\"El valor de x es: \"))\n",
        "funcion(x)\n",
        "miLista=[] \n",
        "def solucion(a):\n",
        "  f=(a**2)+3*a+3\n",
        "  return f\n",
        "contador=-5\n",
        "while contador<10 and solucion(contador)<30:\n",
        "  contador=contador+1\n",
        "  solucion(contador)\n",
        "  miLista.append(solucion(contador))\n",
        "print(\"Lista de valores:\", miLista)"
      ],
      "execution_count": 86,
      "outputs": [
        {
          "output_type": "stream",
          "text": [
            "El siguiente programa resolvera la funcion: f(x)=x^2+3x+3\n",
            "\n",
            "El valor de x es: 3\n",
            "\n",
            "f(x)= 21.0\n",
            "Lista de valores: [7, 3, 1, 1, 3, 7, 13, 21, 31]\n"
          ],
          "name": "stdout"
        }
      ]
    }
  ]
}